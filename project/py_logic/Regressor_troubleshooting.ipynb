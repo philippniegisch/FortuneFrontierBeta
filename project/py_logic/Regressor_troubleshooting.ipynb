{
 "cells": [
  {
   "cell_type": "code",
   "execution_count": 2,
   "id": "d695c06a",
   "metadata": {},
   "outputs": [],
   "source": [
    "import pandas as pd\n",
    "import matplotlib.pyplot as plt\n",
    "import seaborn as sns\n",
    "from prophet import Prophet\n",
    "from preprocess_b import preprocess_revenue, preprocess_complete\n",
    "from google.cloud import storage\n",
    "import pandas as pd\n",
    "import os\n",
    "import io"
   ]
  },
  {
   "cell_type": "code",
   "execution_count": 4,
   "id": "eacffe2d",
   "metadata": {},
   "outputs": [
    {
     "name": "stderr",
     "output_type": "stream",
     "text": [
      "/home/tearkistan/code/philippniegisch/FortuneFrontierBeta/project/py_logic/preprocess_b.py:167: SettingWithCopyWarning: \n",
      "A value is trying to be set on a copy of a slice from a DataFrame.\n",
      "Try using .loc[row_indexer,col_indexer] = value instead\n",
      "\n",
      "See the caveats in the documentation: https://pandas.pydata.org/pandas-docs/stable/user_guide/indexing.html#returning-a-view-versus-a-copy\n",
      "  df_filtered['ds'] = pd.to_datetime(df_filtered['ds'])\n",
      "/home/tearkistan/code/philippniegisch/FortuneFrontierBeta/project/py_logic/preprocess_b.py:169: SettingWithCopyWarning: \n",
      "A value is trying to be set on a copy of a slice from a DataFrame.\n",
      "Try using .loc[row_indexer,col_indexer] = value instead\n",
      "\n",
      "See the caveats in the documentation: https://pandas.pydata.org/pandas-docs/stable/user_guide/indexing.html#returning-a-view-versus-a-copy\n",
      "  df_filtered['ds'] = df_filtered['ds'].dt.normalize()\n",
      "/home/tearkistan/code/philippniegisch/FortuneFrontierBeta/project/py_logic/preprocess_b.py:171: SettingWithCopyWarning: \n",
      "A value is trying to be set on a copy of a slice from a DataFrame.\n",
      "Try using .loc[row_indexer,col_indexer] = value instead\n",
      "\n",
      "See the caveats in the documentation: https://pandas.pydata.org/pandas-docs/stable/user_guide/indexing.html#returning-a-view-versus-a-copy\n",
      "  df_filtered['ds'] = pd.to_datetime(df_filtered['ds']).dt.date\n",
      "/home/tearkistan/code/philippniegisch/FortuneFrontierBeta/project/py_logic/preprocess_b.py:172: SettingWithCopyWarning: \n",
      "A value is trying to be set on a copy of a slice from a DataFrame.\n",
      "Try using .loc[row_indexer,col_indexer] = value instead\n",
      "\n",
      "See the caveats in the documentation: https://pandas.pydata.org/pandas-docs/stable/user_guide/indexing.html#returning-a-view-versus-a-copy\n",
      "  df_filtered[\"ds\"] = pd.to_datetime(df_filtered[\"ds\"])\n"
     ]
    },
    {
     "name": "stdout",
     "output_type": "stream",
     "text": [
      "<class 'pandas.core.frame.DataFrame'>\n",
      "RangeIndex: 850 entries, 1 to 850\n",
      "Data columns (total 2 columns):\n",
      " #   Column   Non-Null Count  Dtype         \n",
      "---  ------   --------------  -----         \n",
      " 0   ds       850 non-null    datetime64[ns]\n",
      " 1   Holiday  850 non-null    object        \n",
      "dtypes: datetime64[ns](1), object(1)\n",
      "memory usage: 13.4+ KB\n"
     ]
    },
    {
     "name": "stderr",
     "output_type": "stream",
     "text": [
      "/home/tearkistan/code/philippniegisch/FortuneFrontierBeta/project/py_logic/preprocess_b.py:219: UserWarning: Parsing dates in %d/%m/%Y format when dayfirst=False (the default) was specified. Pass `dayfirst=True` or specify a format to silence this warning.\n",
      "  df_unemp_ber['Date'] = pd.to_datetime(df_unemp_ber['Date'])\n"
     ]
    }
   ],
   "source": [
    "df = preprocess_revenue()\n",
    "#Load feature dataframe\n",
    "feature_df = preprocess_complete()\n",
    "#Merge dataframes on ds\n",
    "df = pd.merge(df,feature_df,how=\"left\")\n",
    "#Loading weather prediction data\n",
    "bucket_name = os.environ.get(\"BUCKET_NAME\")\n",
    "client = storage.Client()\n",
    "bucket = client.get_bucket(bucket_name)\n",
    "blob_pred_weather = bucket.blob(\"feature_data/finall_pred_weather.csv\")\n",
    "csv_data_pred_weather = blob_pred_weather.download_as_string()\n",
    "weather_forecast = pd.read_csv(io.BytesIO(csv_data_pred_weather))\n",
    "weather_forecast[\"ds\"] = pd.to_datetime(weather_forecast[\"ds\"])\n",
    "weather_forecast[\"forecast dt iso\"] = pd.to_datetime(weather_forecast[\"forecast dt iso\"])\n",
    "merged_df = pd.merge(df,feature_df,how=\"left\")\n",
    "merged_df['cap'] = 1.2 * df['y'].max()"
   ]
  }
 ],
 "metadata": {
  "kernelspec": {
   "display_name": "Python 3 (ipykernel)",
   "language": "python",
   "name": "python3"
  },
  "language_info": {
   "codemirror_mode": {
    "name": "ipython",
    "version": 3
   },
   "file_extension": ".py",
   "mimetype": "text/x-python",
   "name": "python",
   "nbconvert_exporter": "python",
   "pygments_lexer": "ipython3",
   "version": "3.10.6"
  },
  "toc": {
   "base_numbering": 1,
   "nav_menu": {},
   "number_sections": true,
   "sideBar": true,
   "skip_h1_title": false,
   "title_cell": "Table of Contents",
   "title_sidebar": "Contents",
   "toc_cell": false,
   "toc_position": {},
   "toc_section_display": true,
   "toc_window_display": false
  }
 },
 "nbformat": 4,
 "nbformat_minor": 5
}
